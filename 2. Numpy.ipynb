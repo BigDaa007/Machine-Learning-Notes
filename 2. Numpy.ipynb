{
  "nbformat": 4,
  "nbformat_minor": 0,
  "metadata": {
    "colab": {
      "name": "Numpy.ipynb",
      "provenance": [],
      "authorship_tag": "ABX9TyNAneY04/S3xqoNvFXCRuEW",
      "include_colab_link": true
    },
    "kernelspec": {
      "name": "python3",
      "display_name": "Python 3"
    },
    "language_info": {
      "name": "python"
    }
  },
  "cells": [
    {
      "cell_type": "markdown",
      "metadata": {
        "id": "view-in-github",
        "colab_type": "text"
      },
      "source": [
        "<a href=\"https://colab.research.google.com/github/BigDaa007/Machine-Learning-Notes/blob/main/Numpy.ipynb\" target=\"_parent\"><img src=\"https://colab.research.google.com/assets/colab-badge.svg\" alt=\"Open In Colab\"/></a>"
      ]
    },
    {
      "cell_type": "markdown",
      "metadata": {
        "id": "OV0N71LSqge2"
      },
      "source": [
        " # **Numpy Basics**"
      ]
    },
    {
      "cell_type": "markdown",
      "metadata": {
        "id": "l4HfP8gCK9D5"
      },
      "source": [
        " ## **Import Numpy**"
      ]
    },
    {
      "cell_type": "code",
      "metadata": {
        "id": "7Q94O9sFKd0T"
      },
      "source": [
        "import numpy as np\n"
      ],
      "execution_count": 2,
      "outputs": []
    },
    {
      "cell_type": "markdown",
      "metadata": {
        "id": "c8Vs78hrLKwb"
      },
      "source": [
        " ## **Create Numpy array**"
      ]
    },
    {
      "cell_type": "code",
      "metadata": {
        "colab": {
          "base_uri": "https://localhost:8080/"
        },
        "id": "GrSVcWtqLTgY",
        "outputId": "6f8cddbf-2097-47e3-b085-7fecd3964b79"
      },
      "source": [
        "a= np.array([1,2,3,4,5])\n",
        "print(a)\n",
        "print(type(a))\n",
        "print(a.shape)"
      ],
      "execution_count": null,
      "outputs": [
        {
          "output_type": "stream",
          "text": [
            "[1 2 3 4 5]\n",
            "<class 'numpy.ndarray'>\n",
            "(5,)\n"
          ],
          "name": "stdout"
        }
      ]
    },
    {
      "cell_type": "code",
      "metadata": {
        "colab": {
          "base_uri": "https://localhost:8080/"
        },
        "id": "RgNONv6gLcx1",
        "outputId": "48684273-4def-4d7f-98d6-958cd01654c5"
      },
      "source": [
        " b = np.array([[1],[2],[3],[4],[5]])\n",
        " print(b)\n",
        " print(b.shape)"
      ],
      "execution_count": null,
      "outputs": [
        {
          "output_type": "stream",
          "text": [
            "[[1]\n",
            " [2]\n",
            " [3]\n",
            " [4]\n",
            " [5]]\n",
            "(5, 1)\n"
          ],
          "name": "stdout"
        }
      ]
    },
    {
      "cell_type": "code",
      "metadata": {
        "colab": {
          "base_uri": "https://localhost:8080/"
        },
        "id": "nkcLI2FaL43s",
        "outputId": "deb35347-45cd-4808-d867-02b2a4dca2e4"
      },
      "source": [
        "c = np.array([[1,2,3],[4,5,6]])\n",
        "print(c)\n",
        "print(c.shape)\n",
        "print(c[1][1])"
      ],
      "execution_count": null,
      "outputs": [
        {
          "output_type": "stream",
          "text": [
            "[[1 2 3]\n",
            " [4 5 6]]\n",
            "(2, 3)\n",
            "5\n"
          ],
          "name": "stdout"
        }
      ]
    },
    {
      "cell_type": "markdown",
      "metadata": {
        "id": "4nhI9GcoMaBN"
      },
      "source": [
        " ## **Create Zeros , Ones , Custom Array**"
      ]
    },
    {
      "cell_type": "code",
      "metadata": {
        "colab": {
          "base_uri": "https://localhost:8080/"
        },
        "id": "SiMjV8TZMQBp",
        "outputId": "b4263720-0499-4232-c525-3ef26dddaa51"
      },
      "source": [
        "a = np.zeros((3,3))\n",
        "print(a)\n"
      ],
      "execution_count": null,
      "outputs": [
        {
          "output_type": "stream",
          "text": [
            "[[0. 0. 0.]\n",
            " [0. 0. 0.]\n",
            " [0. 0. 0.]]\n"
          ],
          "name": "stdout"
        }
      ]
    },
    {
      "cell_type": "code",
      "metadata": {
        "colab": {
          "base_uri": "https://localhost:8080/"
        },
        "id": "02Mxjnj9MtqV",
        "outputId": "7ecfc613-33aa-4ac5-cb06-a884fd210656"
      },
      "source": [
        "b = np.ones((2,5))\n",
        "print(b)"
      ],
      "execution_count": null,
      "outputs": [
        {
          "output_type": "stream",
          "text": [
            "[[1. 1. 1. 1. 1.]\n",
            " [1. 1. 1. 1. 1.]]\n"
          ],
          "name": "stdout"
        }
      ]
    },
    {
      "cell_type": "code",
      "metadata": {
        "colab": {
          "base_uri": "https://localhost:8080/"
        },
        "id": "TBcli4FRMyuy",
        "outputId": "903628e1-5719-4742-84c6-85bdc0b19e2c"
      },
      "source": [
        "# Array of some constants\n",
        "\n",
        "c = np.full((3,2),5)\n",
        "print(c)"
      ],
      "execution_count": null,
      "outputs": [
        {
          "output_type": "stream",
          "text": [
            "[[5 5]\n",
            " [5 5]\n",
            " [5 5]]\n"
          ],
          "name": "stdout"
        }
      ]
    },
    {
      "cell_type": "markdown",
      "metadata": {
        "id": "q3xkjfX3NJ7y"
      },
      "source": [
        " ## **Identity Matrix - Size/Square Matrix**"
      ]
    },
    {
      "cell_type": "code",
      "metadata": {
        "colab": {
          "base_uri": "https://localhost:8080/"
        },
        "id": "BwapCR-jNE69",
        "outputId": "5025e206-378e-4f63-b601-d25b743e1297"
      },
      "source": [
        "d = np.eye(4)\n",
        "print(d)"
      ],
      "execution_count": null,
      "outputs": [
        {
          "output_type": "stream",
          "text": [
            "[[1. 0. 0. 0.]\n",
            " [0. 1. 0. 0.]\n",
            " [0. 0. 1. 0.]\n",
            " [0. 0. 0. 1.]]\n"
          ],
          "name": "stdout"
        }
      ]
    },
    {
      "cell_type": "markdown",
      "metadata": {
        "id": "azX807b5NdSN"
      },
      "source": [
        " ## **Random Matrix**\n",
        "\n",
        " np.random.random\n",
        "random(size=None)\n",
        "\n",
        "Return random floats in the half-open interval [0.0, 1.0). Alias for\n",
        "`random_sample` to ease forward-porting to the new random API."
      ]
    },
    {
      "cell_type": "code",
      "metadata": {
        "colab": {
          "base_uri": "https://localhost:8080/"
        },
        "id": "9JgMQ44_NYid",
        "outputId": "cc3692db-3acc-4732-9a4c-57fee2f92c1a"
      },
      "source": [
        "randomMatrix = np.random.random()\n",
        "print(randomMatrix)"
      ],
      "execution_count": null,
      "outputs": [
        {
          "output_type": "stream",
          "text": [
            "0.12832737715546894\n"
          ],
          "name": "stdout"
        }
      ]
    },
    {
      "cell_type": "code",
      "metadata": {
        "colab": {
          "base_uri": "https://localhost:8080/"
        },
        "id": "v-Oc7oH2N3jr",
        "outputId": "ed5b924e-8510-451a-f5d1-c602ab02820f"
      },
      "source": [
        "randomMatrix1 = np.random.random((2,3))\n",
        "print(randomMatrix1)"
      ],
      "execution_count": null,
      "outputs": [
        {
          "output_type": "stream",
          "text": [
            "[[0.4042233  0.62758539 0.5339087 ]\n",
            " [0.2340853  0.95590479 0.63151716]]\n"
          ],
          "name": "stdout"
        }
      ]
    },
    {
      "cell_type": "code",
      "metadata": {
        "colab": {
          "base_uri": "https://localhost:8080/"
        },
        "id": "WlSzLj6aOAm_",
        "outputId": "fa7462ae-50c5-4ac3-d05b-f4dbcabf8bc9"
      },
      "source": [
        "print(randomMatrix1[:,1])"
      ],
      "execution_count": null,
      "outputs": [
        {
          "output_type": "stream",
          "text": [
            "[0.62758539 0.95590479]\n"
          ],
          "name": "stdout"
        }
      ]
    },
    {
      "cell_type": "markdown",
      "metadata": {
        "id": "R0BXcNlxOTAB"
      },
      "source": [
        " ## **Set some rows and columns with any value**"
      ]
    },
    {
      "cell_type": "code",
      "metadata": {
        "colab": {
          "base_uri": "https://localhost:8080/"
        },
        "id": "fKZrQMFHOKJQ",
        "outputId": "bc306e8b-9c0a-4c65-84f3-4c5904817e3e"
      },
      "source": [
        "e = np.zeros((3,3))\n",
        "print(e)"
      ],
      "execution_count": null,
      "outputs": [
        {
          "output_type": "stream",
          "text": [
            "[[0. 0. 0.]\n",
            " [0. 0. 0.]\n",
            " [0. 0. 0.]]\n"
          ],
          "name": "stdout"
        }
      ]
    },
    {
      "cell_type": "code",
      "metadata": {
        "colab": {
          "base_uri": "https://localhost:8080/"
        },
        "id": "tem3P1lcOs-z",
        "outputId": "eb1204d5-12c5-4eaf-8c8e-3fac308502e1"
      },
      "source": [
        "e[1,:]=5\n",
        "print(e)"
      ],
      "execution_count": null,
      "outputs": [
        {
          "output_type": "stream",
          "text": [
            "[[0. 0. 0.]\n",
            " [5. 5. 5.]\n",
            " [0. 0. 0.]]\n"
          ],
          "name": "stdout"
        }
      ]
    },
    {
      "cell_type": "code",
      "metadata": {
        "colab": {
          "base_uri": "https://localhost:8080/"
        },
        "id": "Fp_8kw1BOyIN",
        "outputId": "3b31e458-1236-4dea-fb2c-db9438d96429"
      },
      "source": [
        "e[:,-1]=7\n",
        "print(e)"
      ],
      "execution_count": null,
      "outputs": [
        {
          "output_type": "stream",
          "text": [
            "[[0. 0. 7.]\n",
            " [5. 5. 7.]\n",
            " [0. 0. 7.]]\n"
          ],
          "name": "stdout"
        }
      ]
    },
    {
      "cell_type": "markdown",
      "metadata": {
        "id": "ppJdzxIvPprm"
      },
      "source": [
        " ## **DataTypes**"
      ]
    },
    {
      "cell_type": "code",
      "metadata": {
        "colab": {
          "base_uri": "https://localhost:8080/"
        },
        "id": "1_9am1KsO6Se",
        "outputId": "50a4d8f1-6e14-4b7d-ad91-33e804042c44"
      },
      "source": [
        "print(e.dtype)\n"
      ],
      "execution_count": null,
      "outputs": [
        {
          "output_type": "stream",
          "text": [
            "float64\n"
          ],
          "name": "stdout"
        }
      ]
    },
    {
      "cell_type": "code",
      "metadata": {
        "colab": {
          "base_uri": "https://localhost:8080/"
        },
        "id": "vP7uRKgqPOFw",
        "outputId": "7f46e04c-3917-4532-8d9d-5e61293702c0"
      },
      "source": [
        "e = np.zeros((3,3),dtype=np.int64)\n",
        "print(e)"
      ],
      "execution_count": null,
      "outputs": [
        {
          "output_type": "stream",
          "text": [
            "[[0 0 0]\n",
            " [0 0 0]\n",
            " [0 0 0]]\n"
          ],
          "name": "stdout"
        }
      ]
    },
    {
      "cell_type": "code",
      "metadata": {
        "colab": {
          "base_uri": "https://localhost:8080/"
        },
        "id": "8pVQYuB1PhQI",
        "outputId": "33be8b75-6a18-4c04-89e3-808af9ebf2ee"
      },
      "source": [
        "print(e.dtype)"
      ],
      "execution_count": null,
      "outputs": [
        {
          "output_type": "stream",
          "text": [
            "int64\n"
          ],
          "name": "stdout"
        }
      ]
    },
    {
      "cell_type": "markdown",
      "metadata": {
        "id": "TQEK0fX9PzRi"
      },
      "source": [
        " # **Mathematical Operations**"
      ]
    },
    {
      "cell_type": "code",
      "metadata": {
        "colab": {
          "base_uri": "https://localhost:8080/"
        },
        "id": "eTMjJ06jPmRM",
        "outputId": "63cb46a3-f7ea-4a3d-ce99-3df129546497"
      },
      "source": [
        "x = np.array([[1,2],[3,4]])\n",
        "y = np.array([[5,6],[7,8]])\n",
        "print(x)\n",
        "print(y)"
      ],
      "execution_count": null,
      "outputs": [
        {
          "output_type": "stream",
          "text": [
            "[[1 2]\n",
            " [3 4]]\n",
            "[[5 6]\n",
            " [7 8]]\n"
          ],
          "name": "stdout"
        }
      ]
    },
    {
      "cell_type": "markdown",
      "metadata": {
        "id": "xwEv2pMhQKYK"
      },
      "source": [
        " ## **Element wise addition**"
      ]
    },
    {
      "cell_type": "code",
      "metadata": {
        "colab": {
          "base_uri": "https://localhost:8080/"
        },
        "id": "PydAaqcAQEn2",
        "outputId": "489fbc8a-4edb-4b3d-bc96-867f1ce22266"
      },
      "source": [
        "print(x+y)\n",
        "print(np.add(x,y))"
      ],
      "execution_count": null,
      "outputs": [
        {
          "output_type": "stream",
          "text": [
            "[[ 6  8]\n",
            " [10 12]]\n",
            "[[ 6  8]\n",
            " [10 12]]\n"
          ],
          "name": "stdout"
        }
      ]
    },
    {
      "cell_type": "markdown",
      "metadata": {
        "id": "7ZFWz6hVRCuW"
      },
      "source": [
        " ## **Element wise subtraction**"
      ]
    },
    {
      "cell_type": "code",
      "metadata": {
        "colab": {
          "base_uri": "https://localhost:8080/"
        },
        "id": "a_Xt0w68QcBa",
        "outputId": "8c38255b-70b1-4142-83e1-4b4aabc14aff"
      },
      "source": [
        "print(x-y)\n",
        "print(np.subtract(x,y))"
      ],
      "execution_count": null,
      "outputs": [
        {
          "output_type": "stream",
          "text": [
            "[[-4 -4]\n",
            " [-4 -4]]\n",
            "[[-4 -4]\n",
            " [-4 -4]]\n"
          ],
          "name": "stdout"
        }
      ]
    },
    {
      "cell_type": "markdown",
      "metadata": {
        "id": "TN7d0SeVRQVd"
      },
      "source": [
        " ## **Element wise Multiply**"
      ]
    },
    {
      "cell_type": "code",
      "metadata": {
        "colab": {
          "base_uri": "https://localhost:8080/"
        },
        "id": "5MAHaKwjRMWl",
        "outputId": "fd40f83a-912a-471f-e904-725916dfca64"
      },
      "source": [
        "print(x*y)\n",
        "print(np.multiply(x,y))"
      ],
      "execution_count": null,
      "outputs": [
        {
          "output_type": "stream",
          "text": [
            "[[ 5 12]\n",
            " [21 32]]\n",
            "[[ 5 12]\n",
            " [21 32]]\n"
          ],
          "name": "stdout"
        }
      ]
    },
    {
      "cell_type": "markdown",
      "metadata": {
        "id": "T7mwDHpkRbw-"
      },
      "source": [
        " ## **Element wise Divide**"
      ]
    },
    {
      "cell_type": "code",
      "metadata": {
        "colab": {
          "base_uri": "https://localhost:8080/"
        },
        "id": "S-fJkuK6RYUz",
        "outputId": "c683fc23-a6e4-42f0-f6d2-98f00bddb3f8"
      },
      "source": [
        "print(x/y)\n",
        "print(np.divide(x,y))"
      ],
      "execution_count": null,
      "outputs": [
        {
          "output_type": "stream",
          "text": [
            "[[0.2        0.33333333]\n",
            " [0.42857143 0.5       ]]\n",
            "[[0.2        0.33333333]\n",
            " [0.42857143 0.5       ]]\n"
          ],
          "name": "stdout"
        }
      ]
    },
    {
      "cell_type": "markdown",
      "metadata": {
        "id": "zbcBG_ViRr_A"
      },
      "source": [
        " ## **Square Root**"
      ]
    },
    {
      "cell_type": "code",
      "metadata": {
        "colab": {
          "base_uri": "https://localhost:8080/"
        },
        "id": "t67f3an3RizE",
        "outputId": "e54d90cf-0c03-4e7f-e94c-f8efbfcfb01c"
      },
      "source": [
        "print(np.sqrt(x))"
      ],
      "execution_count": null,
      "outputs": [
        {
          "output_type": "stream",
          "text": [
            "[[1.         1.41421356]\n",
            " [1.73205081 2.        ]]\n"
          ],
          "name": "stdout"
        }
      ]
    },
    {
      "cell_type": "markdown",
      "metadata": {
        "id": "ZYlhxTvURwfD"
      },
      "source": [
        " ## **Matrix Multiplication / Dot Products**"
      ]
    },
    {
      "cell_type": "code",
      "metadata": {
        "colab": {
          "base_uri": "https://localhost:8080/"
        },
        "id": "yLJLgq9mRqmh",
        "outputId": "0b16bcc6-1d0d-46dc-c97e-4487a968c4a4"
      },
      "source": [
        "print(x)\n",
        "print(y)\n",
        "\n",
        "print(x.dot(y))\n",
        "print(np.dot(x,y))"
      ],
      "execution_count": null,
      "outputs": [
        {
          "output_type": "stream",
          "text": [
            "[[1 2]\n",
            " [3 4]]\n",
            "[[5 6]\n",
            " [7 8]]\n",
            "[[19 22]\n",
            " [43 50]]\n",
            "[[19 22]\n",
            " [43 50]]\n"
          ],
          "name": "stdout"
        }
      ]
    },
    {
      "cell_type": "markdown",
      "metadata": {
        "id": "LgslzMTHSKxM"
      },
      "source": [
        " ## **Multiplication Of Vectors**"
      ]
    },
    {
      "cell_type": "code",
      "metadata": {
        "colab": {
          "base_uri": "https://localhost:8080/"
        },
        "id": "aoMcESp-SF3q",
        "outputId": "d285c62e-2e48-464b-bc04-5f0d13d967ac"
      },
      "source": [
        "# Multiplication of two vectors is a scalar\n",
        "f = np.array([1,2,3,4,5])\n",
        "g = np.array([4,5,6,7,8])\n",
        "print(f.dot(g))"
      ],
      "execution_count": null,
      "outputs": [
        {
          "output_type": "stream",
          "text": [
            "100\n"
          ],
          "name": "stdout"
        }
      ]
    },
    {
      "cell_type": "markdown",
      "metadata": {
        "id": "QpaRyhxTTBNV"
      },
      "source": [
        " ## **Sum**"
      ]
    },
    {
      "cell_type": "code",
      "metadata": {
        "colab": {
          "base_uri": "https://localhost:8080/"
        },
        "id": "yvtXovLlSshc",
        "outputId": "da7b5d27-7bf1-422d-b16f-a64858a965d0"
      },
      "source": [
        "print(f)\n",
        "print(sum(f))"
      ],
      "execution_count": null,
      "outputs": [
        {
          "output_type": "stream",
          "text": [
            "[1 2 3 4 5]\n",
            "15\n"
          ],
          "name": "stdout"
        }
      ]
    },
    {
      "cell_type": "code",
      "metadata": {
        "colab": {
          "base_uri": "https://localhost:8080/"
        },
        "id": "h0gpbHwrTHmF",
        "outputId": "a04d326c-1d3a-4eb6-b528-2fa005e41ea9"
      },
      "source": [
        "print(x)\n",
        "print(np.sum(x))"
      ],
      "execution_count": null,
      "outputs": [
        {
          "output_type": "stream",
          "text": [
            "[[1 2]\n",
            " [3 4]]\n",
            "10\n"
          ],
          "name": "stdout"
        }
      ]
    },
    {
      "cell_type": "code",
      "metadata": {
        "colab": {
          "base_uri": "https://localhost:8080/"
        },
        "id": "YbDLB-z1TTb2",
        "outputId": "182d2af7-2b90-4569-e0a5-b1bd6919c4e3"
      },
      "source": [
        "# Column Wise Sum\n",
        "print(np.sum(x,axis = 0))   \n",
        "\n",
        "# Row Wise sum\n",
        "print(np.sum(x,axis = 1))    "
      ],
      "execution_count": null,
      "outputs": [
        {
          "output_type": "stream",
          "text": [
            "[4 6]\n",
            "[3 7]\n"
          ],
          "name": "stdout"
        }
      ]
    },
    {
      "cell_type": "code",
      "metadata": {
        "id": "5PGJavhfTWBS"
      },
      "source": [
        ""
      ],
      "execution_count": null,
      "outputs": []
    },
    {
      "cell_type": "markdown",
      "metadata": {
        "id": "JQy0IOxkjY_S"
      },
      "source": [
        " # **Some More Numpy Functions**\n",
        "\n",
        "*   min,max\n",
        "*   mean\n",
        "*   median\n",
        "*   average\n",
        "*   variance\n",
        "*   stantard deviation\n",
        "\n"
      ]
    },
    {
      "cell_type": "markdown",
      "metadata": {
        "id": "5NO6RD2zmAsC"
      },
      "source": [
        " ## **Min,Max**"
      ]
    },
    {
      "cell_type": "code",
      "metadata": {
        "colab": {
          "base_uri": "https://localhost:8080/"
        },
        "id": "DJvNxqJGjjhy",
        "outputId": "3dc309fc-a222-4b22-a5e4-7f82fd137798"
      },
      "source": [
        "h = np.array([[1,2,3,4],[7,6,2,0]])\n",
        "print(h)\n",
        "print(np.min(h))\n",
        "print(np.min(h,axis=0))\n",
        "print(np.min(h,axis=1))"
      ],
      "execution_count": 5,
      "outputs": [
        {
          "output_type": "stream",
          "text": [
            "[[1 2 3 4]\n",
            " [7 6 2 0]]\n",
            "0\n",
            "[1 2 2 0]\n",
            "[1 0]\n"
          ],
          "name": "stdout"
        }
      ]
    },
    {
      "cell_type": "code",
      "metadata": {
        "colab": {
          "base_uri": "https://localhost:8080/"
        },
        "id": "wSQIg9nBkz9W",
        "outputId": "d3a1f7f1-be5c-4174-f973-18b39ac24dc3"
      },
      "source": [
        "print(np.max(h))\n",
        "print(np.max(h,axis=0))\n",
        "print(np.max(h,axis=1))"
      ],
      "execution_count": 6,
      "outputs": [
        {
          "output_type": "stream",
          "text": [
            "7\n",
            "[7 6 3 4]\n",
            "[4 7]\n"
          ],
          "name": "stdout"
        }
      ]
    },
    {
      "cell_type": "markdown",
      "metadata": {
        "id": "szjyz9pxmGvj"
      },
      "source": [
        " ## **Mean**"
      ]
    },
    {
      "cell_type": "code",
      "metadata": {
        "colab": {
          "base_uri": "https://localhost:8080/"
        },
        "id": "e9FRtwdul9kG",
        "outputId": "b07778ca-f82b-423f-bd38-42bddc3ad727"
      },
      "source": [
        "i = np.array([1,2,3,4,5])\n",
        "m = sum(i)/5\n",
        "print(m)\n",
        "\n",
        "print(np.mean(i))\n",
        "print(np.mean(h,axis=0))\n",
        "print(np.mean(h,axis=1))"
      ],
      "execution_count": 11,
      "outputs": [
        {
          "output_type": "stream",
          "text": [
            "3.0\n",
            "3.0\n",
            "[4.  4.  2.5 2. ]\n",
            "[2.5  3.75]\n"
          ],
          "name": "stdout"
        }
      ]
    },
    {
      "cell_type": "markdown",
      "metadata": {
        "id": "i3fpFpxinURh"
      },
      "source": [
        " ## **Median**"
      ]
    },
    {
      "cell_type": "code",
      "metadata": {
        "colab": {
          "base_uri": "https://localhost:8080/"
        },
        "id": "4t86XdN5mq6w",
        "outputId": "92b2b0ba-8798-4e89-8d3c-51800d1279a0"
      },
      "source": [
        "print(np.median(i))"
      ],
      "execution_count": 12,
      "outputs": [
        {
          "output_type": "stream",
          "text": [
            "3.0\n"
          ],
          "name": "stdout"
        }
      ]
    },
    {
      "cell_type": "markdown",
      "metadata": {
        "id": "vTGlSQoloZ-N"
      },
      "source": [
        " ## **Mean vs Average**"
      ]
    },
    {
      "cell_type": "code",
      "metadata": {
        "colab": {
          "base_uri": "https://localhost:8080/"
        },
        "id": "80_YPIUNnaza",
        "outputId": "a5c19e84-71a4-48af-9979-01e4e9cb9357"
      },
      "source": [
        "# Average is weghted\n",
        "print(np.mean(i))\n",
        "w= np.array([1,3,5,6,7])\n",
        "wi = [1,1,1,1,1]\n",
        "print(np.average(i,weights=w))\n",
        "print(np.average(i,weights=wi))\n",
        "# If weights = 1 then Average = Mean"
      ],
      "execution_count": 14,
      "outputs": [
        {
          "output_type": "stream",
          "text": [
            "3.0\n",
            "3.6818181818181817\n",
            "3.0\n"
          ],
          "name": "stdout"
        }
      ]
    },
    {
      "cell_type": "markdown",
      "metadata": {
        "id": "yWbX9bdqpOAb"
      },
      "source": [
        " ## **Standard Deviation**"
      ]
    },
    {
      "cell_type": "code",
      "metadata": {
        "colab": {
          "base_uri": "https://localhost:8080/"
        },
        "id": "AAsgZC6Uo2MR",
        "outputId": "9bdaa86a-a5d7-4e85-e82d-83535006c668"
      },
      "source": [
        "u=np.mean(i)\n",
        "myStd = np.sqrt(np.mean(abs(i-u)**2))\n",
        "print(myStd)\n",
        "\n",
        "# Inbuilt Function\n",
        "dev = np.std(i)\n",
        "print(dev)"
      ],
      "execution_count": 16,
      "outputs": [
        {
          "output_type": "stream",
          "text": [
            "1.4142135623730951\n",
            "1.4142135623730951\n"
          ],
          "name": "stdout"
        }
      ]
    },
    {
      "cell_type": "markdown",
      "metadata": {
        "id": "QUzogUNOpy80"
      },
      "source": [
        " ## **Variance**"
      ]
    },
    {
      "cell_type": "code",
      "metadata": {
        "colab": {
          "base_uri": "https://localhost:8080/"
        },
        "id": "eqkQuM1Fptz9",
        "outputId": "79c54044-24d0-4ee9-a393-d791dcfa41d0"
      },
      "source": [
        "print(myStd**2)\n",
        "print(np.var(i))"
      ],
      "execution_count": 17,
      "outputs": [
        {
          "output_type": "stream",
          "text": [
            "2.0000000000000004\n",
            "2.0\n"
          ],
          "name": "stdout"
        }
      ]
    },
    {
      "cell_type": "markdown",
      "metadata": {
        "id": "-iJ_5y8NrDFy"
      },
      "source": [
        "# **Numpy Random Module**\n",
        "\n",
        "*    rand   : Random Values in a given shape\n",
        "*    randn  : Returns a sample (or samples) from the \"standard normal\" distribution\n",
        "*    randint: Returns random integers from low(inclusive) to high(exclusive)\n",
        "*    random : Return random floats in the half-open interval [0.0 , 1.0)\n",
        "*    choice : Generated a random sample from a given 1-D array\n",
        "*    shuffle: Shuffles the contents of a sequence\n",
        "*    seed   : fix the randomness"
      ]
    },
    {
      "cell_type": "code",
      "metadata": {
        "colab": {
          "base_uri": "https://localhost:8080/"
        },
        "id": "wsvTHQferGxw",
        "outputId": "2c6a5e38-b5b0-4eca-a645-4c943a5e07cd"
      },
      "source": [
        "j = np.arange(1,10,2)\n",
        "print(j)"
      ],
      "execution_count": 18,
      "outputs": [
        {
          "output_type": "stream",
          "text": [
            "[1 3 5 7 9]\n"
          ],
          "name": "stdout"
        }
      ]
    },
    {
      "cell_type": "code",
      "metadata": {
        "colab": {
          "base_uri": "https://localhost:8080/"
        },
        "id": "qfSejSKhupK8",
        "outputId": "b0106796-fa87-43d3-aaf3-98dcd4b95751"
      },
      "source": [
        "j = np.arange(1,10,2) +10\n",
        "print(j)"
      ],
      "execution_count": 28,
      "outputs": [
        {
          "output_type": "stream",
          "text": [
            "[11 13 15 17 19]\n"
          ],
          "name": "stdout"
        }
      ]
    },
    {
      "cell_type": "code",
      "metadata": {
        "colab": {
          "base_uri": "https://localhost:8080/"
        },
        "id": "K9NOlSCNtY64",
        "outputId": "01a0f169-c8ba-43d5-c0f5-57f31fc66765"
      },
      "source": [
        "np.random.shuffle(j)\n",
        "print(j)"
      ],
      "execution_count": 19,
      "outputs": [
        {
          "output_type": "stream",
          "text": [
            "[9 3 1 7 5]\n"
          ],
          "name": "stdout"
        }
      ]
    },
    {
      "cell_type": "code",
      "metadata": {
        "colab": {
          "base_uri": "https://localhost:8080/"
        },
        "id": "5G8vhd36thi4",
        "outputId": "92898c26-d08a-4500-8f4b-8f2f6b8533d4"
      },
      "source": [
        "np.random.choice(j)"
      ],
      "execution_count": 24,
      "outputs": [
        {
          "output_type": "execute_result",
          "data": {
            "text/plain": [
              "5"
            ]
          },
          "metadata": {
            "tags": []
          },
          "execution_count": 24
        }
      ]
    },
    {
      "cell_type": "code",
      "metadata": {
        "colab": {
          "base_uri": "https://localhost:8080/"
        },
        "id": "rB44RW4ktoGF",
        "outputId": "2a9e4c52-bfa0-437a-d8c4-936b092553f1"
      },
      "source": [
        "k  = np.random.randn(2,3)\n",
        "print(k)"
      ],
      "execution_count": 25,
      "outputs": [
        {
          "output_type": "stream",
          "text": [
            "[[-0.17504648 -0.91467276 -0.78591223]\n",
            " [ 1.24744937  0.65332065  1.7319675 ]]\n"
          ],
          "name": "stdout"
        }
      ]
    },
    {
      "cell_type": "code",
      "metadata": {
        "colab": {
          "base_uri": "https://localhost:8080/"
        },
        "id": "o7qX_wCbuOFd",
        "outputId": "c777a60e-14c5-4b74-8efa-b078372fcf19"
      },
      "source": [
        "np.random.randn()"
      ],
      "execution_count": 26,
      "outputs": [
        {
          "output_type": "execute_result",
          "data": {
            "text/plain": [
              "-1.3291991090967314"
            ]
          },
          "metadata": {
            "tags": []
          },
          "execution_count": 26
        }
      ]
    },
    {
      "cell_type": "code",
      "metadata": {
        "colab": {
          "base_uri": "https://localhost:8080/"
        },
        "id": "xKRLk-6AuURy",
        "outputId": "9ef2a7a5-6478-4006-d81d-e07ebf64a78d"
      },
      "source": [
        "np.random.randint(10,100,5)"
      ],
      "execution_count": 27,
      "outputs": [
        {
          "output_type": "execute_result",
          "data": {
            "text/plain": [
              "array([20, 54, 94, 48, 27])"
            ]
          },
          "metadata": {
            "tags": []
          },
          "execution_count": 27
        }
      ]
    },
    {
      "cell_type": "code",
      "metadata": {
        "colab": {
          "base_uri": "https://localhost:8080/"
        },
        "id": "zFsu3bp1uiF7",
        "outputId": "479064ff-c6ba-4a98-de11-9789c420dbe2"
      },
      "source": [
        "np.random.seed(1)\n",
        "np.random.randint(10,100,5)"
      ],
      "execution_count": 38,
      "outputs": [
        {
          "output_type": "execute_result",
          "data": {
            "text/plain": [
              "array([47, 22, 82, 19, 85])"
            ]
          },
          "metadata": {
            "tags": []
          },
          "execution_count": 38
        }
      ]
    },
    {
      "cell_type": "code",
      "metadata": {
        "id": "D3Q4qnVBvfK4"
      },
      "source": [
        ""
      ],
      "execution_count": null,
      "outputs": []
    }
  ]
}
